{
 "cells": [
  {
   "cell_type": "markdown",
   "metadata": {},
   "source": [
    "### Final project"
   ]
  },
  {
   "cell_type": "markdown",
   "metadata": {},
   "source": [
    "Analysis for the Titanic data set: \"It Contains demographics and passenger information from 891 of the 2224 passengers and crew on board the Titanic.\""
   ]
  },
  {
   "cell_type": "markdown",
   "metadata": {},
   "source": [
    "Types of graphic with matplotlib\n",
    "\n",
    "Plotting methods allow for a handful of plot styles other than the default Line plot. These methods can be provided as the kind keyword argument to plot(). These include:\n",
    "\n",
    "    -‘bar’ or ‘barh’ for bar plots\n",
    "    -‘hist’ for histogram\n",
    "    -‘box’ for boxplot\n",
    "    -‘kde’ or 'density' for density plots\n",
    "    -‘area’ for area plots\n",
    "    -‘scatter’ for scatter plots\n",
    "    -‘hexbin’ for hexagonal bin plots\n",
    "    -‘pie’ for pie plots"
   ]
  },
  {
   "cell_type": "code",
   "execution_count": 1,
   "metadata": {},
   "outputs": [],
   "source": [
    "import pandas as pd\n",
    "import numpy as np\n",
    "import matplotlib.pyplot as plt\n",
    "import unicodecsv\n",
    "import seaborn as sns\n",
    "\n",
    "%matplotlib inline"
   ]
  },
  {
   "cell_type": "code",
   "execution_count": 2,
   "metadata": {},
   "outputs": [
    {
     "data": {
      "text/html": [
       "<div>\n",
       "<style scoped>\n",
       "    .dataframe tbody tr th:only-of-type {\n",
       "        vertical-align: middle;\n",
       "    }\n",
       "\n",
       "    .dataframe tbody tr th {\n",
       "        vertical-align: top;\n",
       "    }\n",
       "\n",
       "    .dataframe thead th {\n",
       "        text-align: right;\n",
       "    }\n",
       "</style>\n",
       "<table border=\"1\" class=\"dataframe\">\n",
       "  <thead>\n",
       "    <tr style=\"text-align: right;\">\n",
       "      <th></th>\n",
       "      <th>PassengerId</th>\n",
       "      <th>Survived</th>\n",
       "      <th>Pclass</th>\n",
       "      <th>Name</th>\n",
       "      <th>Sex</th>\n",
       "      <th>Age</th>\n",
       "      <th>SibSp</th>\n",
       "      <th>Parch</th>\n",
       "      <th>Ticket</th>\n",
       "      <th>Fare</th>\n",
       "      <th>Cabin</th>\n",
       "      <th>Embarked</th>\n",
       "    </tr>\n",
       "  </thead>\n",
       "  <tbody>\n",
       "    <tr>\n",
       "      <th>0</th>\n",
       "      <td>1</td>\n",
       "      <td>0</td>\n",
       "      <td>3</td>\n",
       "      <td>Braund, Mr. Owen Harris</td>\n",
       "      <td>male</td>\n",
       "      <td>22.0</td>\n",
       "      <td>1</td>\n",
       "      <td>0</td>\n",
       "      <td>A/5 21171</td>\n",
       "      <td>7.2500</td>\n",
       "      <td>NaN</td>\n",
       "      <td>S</td>\n",
       "    </tr>\n",
       "    <tr>\n",
       "      <th>1</th>\n",
       "      <td>2</td>\n",
       "      <td>1</td>\n",
       "      <td>1</td>\n",
       "      <td>Cumings, Mrs. John Bradley (Florence Briggs Th...</td>\n",
       "      <td>female</td>\n",
       "      <td>38.0</td>\n",
       "      <td>1</td>\n",
       "      <td>0</td>\n",
       "      <td>PC 17599</td>\n",
       "      <td>71.2833</td>\n",
       "      <td>C85</td>\n",
       "      <td>C</td>\n",
       "    </tr>\n",
       "    <tr>\n",
       "      <th>2</th>\n",
       "      <td>3</td>\n",
       "      <td>1</td>\n",
       "      <td>3</td>\n",
       "      <td>Heikkinen, Miss. Laina</td>\n",
       "      <td>female</td>\n",
       "      <td>26.0</td>\n",
       "      <td>0</td>\n",
       "      <td>0</td>\n",
       "      <td>STON/O2. 3101282</td>\n",
       "      <td>7.9250</td>\n",
       "      <td>NaN</td>\n",
       "      <td>S</td>\n",
       "    </tr>\n",
       "    <tr>\n",
       "      <th>3</th>\n",
       "      <td>4</td>\n",
       "      <td>1</td>\n",
       "      <td>1</td>\n",
       "      <td>Futrelle, Mrs. Jacques Heath (Lily May Peel)</td>\n",
       "      <td>female</td>\n",
       "      <td>35.0</td>\n",
       "      <td>1</td>\n",
       "      <td>0</td>\n",
       "      <td>113803</td>\n",
       "      <td>53.1000</td>\n",
       "      <td>C123</td>\n",
       "      <td>S</td>\n",
       "    </tr>\n",
       "    <tr>\n",
       "      <th>4</th>\n",
       "      <td>5</td>\n",
       "      <td>0</td>\n",
       "      <td>3</td>\n",
       "      <td>Allen, Mr. William Henry</td>\n",
       "      <td>male</td>\n",
       "      <td>35.0</td>\n",
       "      <td>0</td>\n",
       "      <td>0</td>\n",
       "      <td>373450</td>\n",
       "      <td>8.0500</td>\n",
       "      <td>NaN</td>\n",
       "      <td>S</td>\n",
       "    </tr>\n",
       "  </tbody>\n",
       "</table>\n",
       "</div>"
      ],
      "text/plain": [
       "   PassengerId  Survived  Pclass  \\\n",
       "0            1         0       3   \n",
       "1            2         1       1   \n",
       "2            3         1       3   \n",
       "3            4         1       1   \n",
       "4            5         0       3   \n",
       "\n",
       "                                                Name     Sex   Age  SibSp  \\\n",
       "0                            Braund, Mr. Owen Harris    male  22.0      1   \n",
       "1  Cumings, Mrs. John Bradley (Florence Briggs Th...  female  38.0      1   \n",
       "2                             Heikkinen, Miss. Laina  female  26.0      0   \n",
       "3       Futrelle, Mrs. Jacques Heath (Lily May Peel)  female  35.0      1   \n",
       "4                           Allen, Mr. William Henry    male  35.0      0   \n",
       "\n",
       "   Parch            Ticket     Fare Cabin Embarked  \n",
       "0      0         A/5 21171   7.2500   NaN        S  \n",
       "1      0          PC 17599  71.2833   C85        C  \n",
       "2      0  STON/O2. 3101282   7.9250   NaN        S  \n",
       "3      0            113803  53.1000  C123        S  \n",
       "4      0            373450   8.0500   NaN        S  "
      ]
     },
     "execution_count": 2,
     "metadata": {},
     "output_type": "execute_result"
    }
   ],
   "source": [
    "# import the data\n",
    "data = pd.read_csv('titanic_data.csv')\n",
    "data.describe()\n",
    "data.head()"
   ]
  },
  {
   "cell_type": "code",
   "execution_count": 3,
   "metadata": {},
   "outputs": [
    {
     "name": "stdout",
     "output_type": "stream",
     "text": [
      "342\n",
      "% of survival\n",
      "0.383838383838\n"
     ]
    }
   ],
   "source": [
    "# Analysis for survival\n",
    "survived = data.sum()['Survived']\n",
    "print(survived)\n",
    "\n",
    "print('% of survival')\n",
    "print(float(survived)/len(data))"
   ]
  },
  {
   "cell_type": "markdown",
   "metadata": {},
   "source": [
    "### Information by class"
   ]
  },
  {
   "cell_type": "code",
   "execution_count": 69,
   "metadata": {},
   "outputs": [
    {
     "data": {
      "text/plain": [
       "Text(0.5,1,u'Class Distribution')"
      ]
     },
     "execution_count": 69,
     "metadata": {},
     "output_type": "execute_result"
    },
    {
     "data": {
      "image/png": "[encoded data removed]",
      "text/plain": [
       "<matplotlib.figure.Figure at 0x1a13075c50>"
      ]
     },
     "metadata": {},
     "output_type": "display_data"
    }
   ],
   "source": [
    "data.Pclass.plot(kind='hist')\n",
    "plt.xlabel(\"Class\")    \n",
    "plt.title(\"Class Distribution\")"
   ]
  },
  {
   "cell_type": "markdown",
   "metadata": {},
   "source": [
    "### Information by Age"
   ]
  },
  {
   "cell_type": "code",
   "execution_count": 38,
   "metadata": {},
   "outputs": [
    {
     "data": {
      "text/plain": [
       "Text(0.5,1,u'Age Distribution')"
      ]
     },
     "execution_count": 38,
     "metadata": {},
     "output_type": "execute_result"
    },
    {
     "data": {
      "image/png": "[encoded data removed]",
      "text/plain": [
       "<matplotlib.figure.Figure at 0x1a18bfa190>"
      ]
     },
     "metadata": {},
     "output_type": "display_data"
    }
   ],
   "source": [
    "data.Age.plot(kind='hist')\n",
    "plt.xlabel('Age')\n",
    "plt.title('Age Distribution')"
   ]
  },
  {
   "cell_type": "markdown",
   "metadata": {},
   "source": [
    "### Information by port of embarcation"
   ]
  },
  {
   "cell_type": "code",
   "execution_count": 71,
   "metadata": {},
   "outputs": [
    {
     "data": {
      "text/plain": [
       "([<matplotlib.axis.XTick at 0x1a1486d590>,\n",
       "  <matplotlib.axis.XTick at 0x1a13147490>,\n",
       "  <matplotlib.axis.XTick at 0x1a14c65f90>],\n",
       " <a list of 3 Text xticklabel objects>)"
      ]
     },
     "execution_count": 71,
     "metadata": {},
     "output_type": "execute_result"
    },
    {
     "data": {
      "image/png": "[encoded data removed]",
      "text/plain": [
       "<matplotlib.figure.Figure at 0x1a13442ed0>"
      ]
     },
     "metadata": {},
     "output_type": "display_data"
    }
   ],
   "source": [
    "data_by_port = data.groupby('Embarked')\n",
    "total = data_by_port['Survived'].count()\n",
    "\n",
    "index = np.arange(len(data_by_port))\n",
    "x_labels = ['Cherbourg','Queenstown','Southampton']\n",
    "\n",
    "plt.xlabel('Port')\n",
    "plt.bar(index, total)\n",
    "plt.xticks(index, x_labels)"
   ]
  },
  {
   "cell_type": "markdown",
   "metadata": {},
   "source": [
    "### Analysis by Age and class"
   ]
  },
  {
   "cell_type": "code",
   "execution_count": 49,
   "metadata": {},
   "outputs": [
    {
     "data": {
      "text/plain": [
       "<matplotlib.legend.Legend at 0x1a1967bf10>"
      ]
     },
     "execution_count": 49,
     "metadata": {},
     "output_type": "execute_result"
    },
    {
     "data": {
      "image/png": "[encoded data removed]",
      "text/plain": [
       "<matplotlib.figure.Figure at 0x1a196165d0>"
      ]
     },
     "metadata": {},
     "output_type": "display_data"
    }
   ],
   "source": [
    "data.Age[data.Pclass == 3].plot(kind='kde')    \n",
    "data.Age[data.Pclass == 2].plot(kind='kde')\n",
    "data.Age[data.Pclass == 1].plot(kind='kde')\n",
    "plt.xlabel(\"Age\")    \n",
    "plt.title(\"Age Distribution, within classes\")\n",
    "plt.legend(('3rd Class', '2nd Class','1st Class')) "
   ]
  },
  {
   "cell_type": "markdown",
   "metadata": {},
   "source": [
    "### Analysis by Age and Sex"
   ]
  },
  {
   "cell_type": "code",
   "execution_count": 51,
   "metadata": {},
   "outputs": [
    {
     "data": {
      "text/plain": [
       "<matplotlib.legend.Legend at 0x1a19402b50>"
      ]
     },
     "execution_count": 51,
     "metadata": {},
     "output_type": "execute_result"
    },
    {
     "data": {
      "image/png": "[encoded data removed]",
      "text/plain": [
       "<matplotlib.figure.Figure at 0x1a198928d0>"
      ]
     },
     "metadata": {},
     "output_type": "display_data"
    }
   ],
   "source": [
    "data.Age[data.Sex == 'male'].plot(kind='hist')\n",
    "data.Age[data.Sex == 'female'].plot(kind='hist')\n",
    "plt.xlabel('Age')\n",
    "plt.title('Age distribution - by sex')\n",
    "plt.legend(('Male', 'Female'))"
   ]
  },
  {
   "cell_type": "markdown",
   "metadata": {},
   "source": [
    "### Analysis by Age and class"
   ]
  },
  {
   "cell_type": "code",
   "execution_count": 4,
   "metadata": {},
   "outputs": [
    {
     "data": {
      "text/plain": [
       "<matplotlib.legend.Legend at 0x1a0a27a4d0>"
      ]
     },
     "execution_count": 4,
     "metadata": {},
     "output_type": "execute_result"
    },
    {
     "data": {
      "image/png": "[encoded data removed]",
      "text/plain": [
       "<matplotlib.figure.Figure at 0x1a0a27a410>"
      ]
     },
     "metadata": {},
     "output_type": "display_data"
    }
   ],
   "source": [
    "data.Age[data.Pclass == 1].plot(kind='kde')    \n",
    "data.Age[data.Pclass == 2].plot(kind='kde')\n",
    "data.Age[data.Pclass == 3].plot(kind='kde')\n",
    "plt.xlabel(\"Age\")    \n",
    "plt.title(\"Age Distribution, within classes\")\n",
    "plt.legend(('1st Class', '2nd Class','3rd Class')) "
   ]
  },
  {
   "cell_type": "markdown",
   "metadata": {},
   "source": [
    "### Analysis Survived by Pclass"
   ]
  },
  {
   "cell_type": "code",
   "execution_count": 63,
   "metadata": {},
   "outputs": [
    {
     "name": "stdout",
     "output_type": "stream",
     "text": [
      "Pclass\n",
      "1    0.629630\n",
      "2    0.472826\n",
      "3    0.242363\n",
      "Name: Survived, dtype: float64\n"
     ]
    }
   ],
   "source": [
    "data_by_class = data.groupby('Pclass')\n",
    "total = data_by_class['Survived'].count()\n",
    "survived = data_by_class['Survived'].sum()\n",
    "not_survived= total - survived\n",
    "perc_survived = (survived) / (total)\n",
    "print(perc_survived)\n",
    "\n",
    "index = np.arange(len(data_by_class))\n",
    "x_labels = ['Class1','Class2','Class3']"
   ]
  },
  {
   "cell_type": "code",
   "execution_count": 71,
   "metadata": {},
   "outputs": [
    {
     "data": {
      "text/plain": [
       "([<matplotlib.axis.XTick at 0x1a2511c810>,\n",
       "  <matplotlib.axis.XTick at 0x1a2511c590>,\n",
       "  <matplotlib.axis.XTick at 0x1a25135a10>],\n",
       " <a list of 3 Text xticklabel objects>)"
      ]
     },
     "execution_count": 71,
     "metadata": {},
     "output_type": "execute_result"
    },
    {
     "data": {
      "image/png": "[encoded data removed]",
      "text/plain": [
       "<matplotlib.figure.Figure at 0x1a24fb4250>"
      ]
     },
     "metadata": {},
     "output_type": "display_data"
    }
   ],
   "source": [
    "plt.bar(index,total,color='blue', width=0.3)\n",
    "plt.bar(index+0.3,survived, color='grey',width=0.3)\n",
    "plt.bar(index+0.6,not_survived, color='black',width=0.3)\n",
    "plt.legend(('Total','Survived','Not Survived'),loc='best')\n",
    "plt.xticks(index+0.3, x_labels)"
   ]
  },
  {
   "cell_type": "markdown",
   "metadata": {},
   "source": [
    "### Analysis Survived by Age"
   ]
  },
  {
   "cell_type": "code",
   "execution_count": 10,
   "metadata": {},
   "outputs": [
    {
     "name": "stdout",
     "output_type": "stream",
     "text": [
      "Age\n",
      "(0, 10]      0.593750\n",
      "(10, 20]     0.382609\n",
      "(20, 28]     0.360656\n",
      "(28, 40]     0.430693\n",
      "(40, 50]     0.383721\n",
      "(50, 100]    0.343750\n",
      "Name: Survived, dtype: float64\n"
     ]
    }
   ],
   "source": [
    "data_by_age = data.groupby(pd.cut(data['Age'],[0,10,20,28,40,50,100]))\n",
    "total = data_by_age['Survived'].count()\n",
    "survived = data_by_age['Survived'].sum()\n",
    "perc_survived = survived / total\n",
    "\n",
    "print(perc_survived)"
   ]
  },
  {
   "cell_type": "code",
   "execution_count": 17,
   "metadata": {},
   "outputs": [],
   "source": [
    "index = np.arange(len(data_by_age))\n",
    "x_labels = ['0-10','10-20','20-28','28-40','40-50','50-100']"
   ]
  },
  {
   "cell_type": "code",
   "execution_count": 28,
   "metadata": {},
   "outputs": [
    {
     "data": {
      "text/plain": [
       "([<matplotlib.axis.XTick at 0x1a187f4c50>,\n",
       "  <matplotlib.axis.XTick at 0x1a187f4b50>,\n",
       "  <matplotlib.axis.XTick at 0x1a187e4d90>,\n",
       "  <matplotlib.axis.XTick at 0x1a18737810>,\n",
       "  <matplotlib.axis.XTick at 0x1a18737cd0>,\n",
       "  <matplotlib.axis.XTick at 0x1a1873f1d0>],\n",
       " <a list of 6 Text xticklabel objects>)"
      ]
     },
     "execution_count": 28,
     "metadata": {},
     "output_type": "execute_result"
    },
    {
     "data": {
      "image/png": "[encoded data removed]",
      "text/plain": [
       "<matplotlib.figure.Figure at 0x1a187e4dd0>"
      ]
     },
     "metadata": {},
     "output_type": "display_data"
    }
   ],
   "source": [
    "plt.bar(index, total, color = 'blue', width=0.4)\n",
    "plt.bar(index+0.4, survived, color = 'gray', width=0.4)\n",
    "plt.legend(('Total','Survived'),loc='best')\n",
    "plt.xticks(index+0.2, x_labels)"
   ]
  },
  {
   "cell_type": "markdown",
   "metadata": {},
   "source": [
    "### Analysis Survived by Sex"
   ]
  },
  {
   "cell_type": "code",
   "execution_count": 17,
   "metadata": {},
   "outputs": [
    {
     "name": "stdout",
     "output_type": "stream",
     "text": [
      "Sex\n",
      "female    0.742038\n",
      "male      0.188908\n",
      "Name: Survived, dtype: float64\n",
      "Sex\n",
      "female    233\n",
      "male      109\n",
      "Name: Survived, dtype: int64\n"
     ]
    }
   ],
   "source": [
    "data_by_sex = data.groupby(['Sex'])\n",
    "total = data_by_sex['Survived'].count()\n",
    "survived = data_by_sex['Survived'].sum()\n",
    "perc_survived = survived / total\n",
    "\n",
    "print(perc_survived)\n",
    "print(survived)"
   ]
  },
  {
   "cell_type": "markdown",
   "metadata": {},
   "source": [
    "### Analysis Survived by Class and Sex"
   ]
  },
  {
   "cell_type": "code",
   "execution_count": 53,
   "metadata": {},
   "outputs": [
    {
     "name": "stdout",
     "output_type": "stream",
     "text": [
      "[122, 108, 347]\n",
      "[94, 76, 144]\n",
      "[45, 17, 47]\n",
      "[91, 70, 72]\n"
     ]
    }
   ],
   "source": [
    "data_by_class_sex = data.groupby(['Pclass','Sex'])\n",
    "\n",
    "total_males = []\n",
    "total_females = []\n",
    "males_survived = []\n",
    "females_survived = []\n",
    "\n",
    "for i in range(1,4):\n",
    "    total_males.append(data_by_class_sex['Survived'].count()[i][1])\n",
    "    total_females.append(data_by_class_sex['Survived'].count()[i][0])\n",
    "    males_survived.append(data_by_class_sex['Survived'].sum()[i][1])\n",
    "    females_survived.append(data_by_class_sex['Survived'].sum()[i][0])\n",
    "\n",
    "print(total_males)\n",
    "print(total_females)\n",
    "print(males_survived)\n",
    "print(females_survived)"
   ]
  },
  {
   "cell_type": "code",
   "execution_count": 54,
   "metadata": {},
   "outputs": [
    {
     "data": {
      "text/plain": [
       "<matplotlib.legend.Legend at 0x1a12594ed0>"
      ]
     },
     "execution_count": 54,
     "metadata": {},
     "output_type": "execute_result"
    },
    {
     "data": {
      "image/png": "[encoded data removed]",
      "text/plain": [
       "<matplotlib.figure.Figure at 0x1a1296a490>"
      ]
     },
     "metadata": {},
     "output_type": "display_data"
    }
   ],
   "source": [
    "#Information for females\n",
    "index = np.arange(3)\n",
    "ax2 = plt.subplot2grid((2,2),(0,0),colspan=2)\n",
    "\n",
    "rects1 = ax2.bar(index,total_females,width=0.4,color='blue')\n",
    "rects2 = ax2.bar(index+0.4,females_survived,width=0.4,color='green')\n",
    "ax2.set_xticks(index+0.4)\n",
    "ax2.set_xticklabels(('Class1','Class2','Class3'))\n",
    "ax2.legend((rects1[0],rects2[0]),('Total','Survived'),loc='best')"
   ]
  },
  {
   "cell_type": "code",
   "execution_count": 55,
   "metadata": {},
   "outputs": [
    {
     "data": {
      "text/plain": [
       "<matplotlib.legend.Legend at 0x1a12fd45d0>"
      ]
     },
     "execution_count": 55,
     "metadata": {},
     "output_type": "execute_result"
    },
    {
     "data": {
      "image/png": "[encoded data removed]",
      "text/plain": [
       "<matplotlib.figure.Figure at 0x1a12960d10>"
      ]
     },
     "metadata": {},
     "output_type": "display_data"
    }
   ],
   "source": [
    "#Information for males\n",
    "index = np.arange(3)\n",
    "ax2 = plt.subplot2grid((2,2),(0,0),colspan=2)\n",
    "\n",
    "rects1 = ax2.bar(index,total_males,width=0.4,color='blue')\n",
    "rects2 = ax2.bar(index+0.4,males_survived,width=0.4,color='green')\n",
    "ax2.set_xticks(index+0.4)\n",
    "ax2.set_xticklabels(('Class1','Class2','Class3'))\n",
    "ax2.legend((rects1[0],rects2[0]),('Total','Survived'),loc='best')"
   ]
  },
  {
   "cell_type": "markdown",
   "metadata": {},
   "source": [
    "### Analysis Survived by Port"
   ]
  },
  {
   "cell_type": "code",
   "execution_count": 75,
   "metadata": {},
   "outputs": [
    {
     "name": "stdout",
     "output_type": "stream",
     "text": [
      "Embarked\n",
      "C    0.553571\n",
      "Q    0.389610\n",
      "S    0.336957\n",
      "Name: Survived, dtype: float64\n"
     ]
    }
   ],
   "source": [
    "data_by_port = data.groupby('Embarked')\n",
    "total = data_by_port['Survived'].count()\n",
    "survived = data_by_port['Survived'].sum()\n",
    "perc_survived = survived / total\n",
    "\n",
    "print(perc_survived)"
   ]
  },
  {
   "cell_type": "code",
   "execution_count": 79,
   "metadata": {},
   "outputs": [
    {
     "data": {
      "text/plain": [
       "([<matplotlib.axis.XTick at 0x1a140fb590>,\n",
       "  <matplotlib.axis.XTick at 0x1a14105050>,\n",
       "  <matplotlib.axis.XTick at 0x1a14067690>],\n",
       " <a list of 3 Text xticklabel objects>)"
      ]
     },
     "execution_count": 79,
     "metadata": {},
     "output_type": "execute_result"
    },
    {
     "data": {
      "image/png": "[encoded data removed]",
      "text/plain": [
       "<matplotlib.figure.Figure at 0x1a14314150>"
      ]
     },
     "metadata": {},
     "output_type": "display_data"
    }
   ],
   "source": [
    "index = np.arange(len(data_by_port))\n",
    "x_labels = ['Cherbourg','Queenstown','Southampton']\n",
    "\n",
    "plt.xlabel('Port')\n",
    "plt.bar(index, total, width = 0.4, color= 'gray')\n",
    "plt.bar(index+0.4, survived, width = 0.4, color= 'blue')\n",
    "plt.legend(('Total','Survived'))\n",
    "plt.xticks(index+0.4, x_labels)"
   ]
  },
  {
   "cell_type": "markdown",
   "metadata": {},
   "source": [
    "### Analysis by Port and class"
   ]
  },
  {
   "cell_type": "code",
   "execution_count": 103,
   "metadata": {},
   "outputs": [
    {
     "name": "stdout",
     "output_type": "stream",
     "text": [
      "Embarked\n",
      "C     85\n",
      "Q      2\n",
      "S    127\n",
      "Name: Survived, dtype: int64\n",
      "Embarked\n",
      "C     17\n",
      "Q      3\n",
      "S    164\n",
      "Name: Survived, dtype: int64\n",
      "Embarked\n",
      "C     66\n",
      "Q     72\n",
      "S    353\n",
      "Name: Survived, dtype: int64\n"
     ]
    }
   ],
   "source": [
    "data_by_port_class = data.groupby(['Pclass','Embarked'])\n",
    "\n",
    "total_class1 = data_by_port_class['Survived'].count()[1]\n",
    "total_class2 = data_by_port_class['Survived'].count()[2]\n",
    "total_class3 = data_by_port_class['Survived'].count()[3]\n",
    "\n",
    "print(total_class1)\n",
    "print(total_class2)\n",
    "print(total_class3)"
   ]
  },
  {
   "cell_type": "code",
   "execution_count": 104,
   "metadata": {},
   "outputs": [],
   "source": [
    "index = np.arange(len(data_by_port))\n",
    "x_labels = ['Cherbourg','Queenstown','Southampton']"
   ]
  },
  {
   "cell_type": "code",
   "execution_count": 109,
   "metadata": {},
   "outputs": [
    {
     "data": {
      "text/plain": [
       "([<matplotlib.axis.XTick at 0x1a154d0810>,\n",
       "  <matplotlib.axis.XTick at 0x1a154d0650>,\n",
       "  <matplotlib.axis.XTick at 0x1a15740f90>],\n",
       " <a list of 3 Text xticklabel objects>)"
      ]
     },
     "execution_count": 109,
     "metadata": {},
     "output_type": "execute_result"
    },
    {
     "data": {
      "image/png": "[encoded data removed]",
      "text/plain": [
       "<matplotlib.figure.Figure at 0x1a153cc910>"
      ]
     },
     "metadata": {},
     "output_type": "display_data"
    }
   ],
   "source": [
    "plt.bar(index, total_class1, color='blue', width=0.2)\n",
    "plt.bar(index+0.2, total_class2, color='green', width=0.2)\n",
    "plt.bar(index+0.4, total_class3, color='black', width=0.2)\n",
    "plt.legend(('Class1','Class2','Class3'),loc='best')\n",
    "plt.xticks(index+0.2, x_labels)"
   ]
  },
  {
   "cell_type": "code",
   "execution_count": null,
   "metadata": {},
   "outputs": [],
   "source": []
  }
 ],
 "metadata": {
  "kernelspec": {
   "display_name": "Python 2",
   "language": "python",
   "name": "python2"
  },
  "language_info": {
   "codemirror_mode": {
    "name": "ipython",
    "version": 2
   },
   "file_extension": ".py",
   "mimetype": "text/x-python",
   "name": "python",
   "nbconvert_exporter": "python",
   "pygments_lexer": "ipython2",
   "version": "2.7.14"
  }
 },
 "nbformat": 4,
 "nbformat_minor": 2
}
